{
  "nbformat": 4,
  "nbformat_minor": 0,
  "metadata": {
    "colab": {
      "name": "task4.ipynb",
      "provenance": [],
      "collapsed_sections": [],
      "toc_visible": true
    },
    "kernelspec": {
      "name": "python3",
      "display_name": "Python 3"
    }
  },
  "cells": [
    {
      "cell_type": "markdown",
      "metadata": {
        "id": "X49pr2AhwRb2",
        "colab_type": "text"
      },
      "source": [
        "\n",
        "#**Analyse the 115th US Congress data and find out which member is the most important person in this Congress.**\n",
        "\n",
        "This is an anomaly detection problem where we are interested in finding an individual who is exceptionally good. My criteria for judging an individual as the important person is based on the leadership quality and activeness of an individual in Congress. We will start by defining the feature space. Since the features can be correlated, so we will use PCA to find the uncorrelated variables in 2D space. Then, we will proceed with outlier detection. In Gaussian distribution, outliers are the points which are 3σ away from the mean. So, we will find a list of outliers and find the best out of them by ranking their features. Last, we will define a three-dimensional space in which each outlier is represented as a vector defined by the ranking space and will calculate the Euclidean distance of each outlier from the origin and find the minimum.\n",
        "\n",
        "It is divided into the following sections:\n",
        "- Getting the necessary libraries & data\n",
        "- Performing feature engineering to extract features\n",
        "- PCA Analysis\n",
        "- Outlier Detection"
      ]
    },
    {
      "cell_type": "markdown",
      "metadata": {
        "id": "IMaMUx5lxu0C",
        "colab_type": "text"
      },
      "source": [
        "# **Importing libraries & reading dataset**"
      ]
    },
    {
      "cell_type": "code",
      "metadata": {
        "id": "TyRU4zHKxz8V",
        "colab_type": "code",
        "colab": {}
      },
      "source": [
        "#importing all the necessary libraries\n",
        "from sklearn.preprocessing import StandardScaler\n",
        "from sklearn.decomposition import PCA\n",
        "import matplotlib.pyplot as plt\n",
        "import numpy as np\n",
        "import pandas as pd\n",
        "import math\n",
        "\n",
        "#reading all the datasets\n",
        "adjacency = pd.read_csv('https://raw.githubusercontent.com/sg-dev/assignment_PhDposition/master/task4_data/adjacency_matrices-115.csv', sep='\\t')\n",
        "edgelist = pd.read_csv('https://raw.githubusercontent.com/sg-dev/assignment_PhDposition/master/task4_data/edgelists-115.csv', sep='\\t')\n",
        "members = pd.read_csv('https://raw.githubusercontent.com/sg-dev/assignment_PhDposition/master/task4_data/members-115.csv', sep='\\t')\n",
        "bills = pd.read_csv('https://raw.githubusercontent.com/sg-dev/assignment_PhDposition/master/task4_data/bills-115.csv', sep='\\t')\n",
        "individuals = pd.read_csv('https://raw.githubusercontent.com/sg-dev/assignment_PhDposition/master/task4_data/individuals.csv', sep='\\t')"
      ],
      "execution_count": null,
      "outputs": []
    },
    {
      "cell_type": "markdown",
      "metadata": {
        "id": "R0FWxbt9x6Z1",
        "colab_type": "text"
      },
      "source": [
        "# **Feature engineering**\n",
        "\n",
        "In this section, we will define our feature space by determining three features which shows the leadership quality and the activeness of the members."
      ]
    },
    {
      "cell_type": "markdown",
      "metadata": {
        "id": "6i3Z-PZXzTjO",
        "colab_type": "text"
      },
      "source": [
        "**Feature 1** : No. of bills proposed by an individual member"
      ]
    },
    {
      "cell_type": "code",
      "metadata": {
        "id": "kx7k8ENRx91t",
        "colab_type": "code",
        "colab": {}
      },
      "source": [
        "id = members['SGID']\n",
        "f1 = members['number_of_bills']                     #storing the no. of bills proposed by each member pf 115th Congress"
      ],
      "execution_count": null,
      "outputs": []
    },
    {
      "cell_type": "markdown",
      "metadata": {
        "id": "HfFick6nx_Xi",
        "colab_type": "text"
      },
      "source": [
        "**Feature 2** : Total no. of times other members supported the bills proposed by each individual"
      ]
    },
    {
      "cell_type": "code",
      "metadata": {
        "id": "yfGi8RrUyJyM",
        "colab_type": "code",
        "colab": {}
      },
      "source": [
        "id_str = np.asarray(id, dtype=np.unicode_)                        #converting the SGIDs into array of string\n",
        "f2 = [sum(adjacency[id_str[i]]) for i in range(0,len(id))]        #calculating how often other members supported their bills by vertically summing the adjacency matrix"
      ],
      "execution_count": null,
      "outputs": []
    },
    {
      "cell_type": "markdown",
      "metadata": {
        "id": "w2cnB0-MyMlB",
        "colab_type": "text"
      },
      "source": [
        "**Feature 3** : No. of congress periods each individual serves. This shows the experience of an individual."
      ]
    },
    {
      "cell_type": "code",
      "metadata": {
        "id": "ybytQaYOyQGA",
        "colab_type": "code",
        "colab": {}
      },
      "source": [
        "f3 = [individuals['num_congress_periods'][j]  for j in range (0,len(individuals['SGID'])) for i in id if i == individuals['SGID'][j] ]  #extracting no. of congress periods from individual.csv based on the SGID of each 452 members."
      ],
      "execution_count": null,
      "outputs": []
    },
    {
      "cell_type": "markdown",
      "metadata": {
        "id": "P6WhCDOlyT45",
        "colab_type": "text"
      },
      "source": [
        "**Combining all the features to a new dataframe**\n",
        "\n",
        "Now, we will create a new dataframe consists of all the 3 features. We will also normalize the content by using the StandardScalar function."
      ]
    },
    {
      "cell_type": "code",
      "metadata": {
        "id": "Hk15_FtdyV3N",
        "colab_type": "code",
        "colab": {}
      },
      "source": [
        "listOfStr = [\"no_of_bills\", \"members_supported\", \"congress_period\"]\n",
        "temp = [f1, f2, f3]\n",
        "df_features = StandardScaler().fit_transform(pd.DataFrame (dict(zip(listOfStr, temp)), columns = listOfStr))  #creating a new dataframe and normalising the features"
      ],
      "execution_count": null,
      "outputs": []
    },
    {
      "cell_type": "markdown",
      "metadata": {
        "id": "U66TSNB4zsKc",
        "colab_type": "text"
      },
      "source": [
        "#**Principal Component Analysis**\n",
        "\n",
        "It is a technique for reducing the dimensionality of datasets, increasing interpretability but at the same time minimizing information loss. It does so by creating new uncorrelated variables that successively maximize variance."
      ]
    },
    {
      "cell_type": "code",
      "metadata": {
        "id": "IPh9lu3azyRE",
        "colab_type": "code",
        "colab": {
          "base_uri": "https://localhost:8080/",
          "height": 296
        },
        "outputId": "6cc7c02d-c754-4d16-ebc8-31a994a86187"
      },
      "source": [
        "pca = PCA(n_components=2)                                           #initialize an object by defining the desired uncorrelated variables\n",
        "principalComponents = pca.fit_transform(df_features)\n",
        "plt.scatter(principalComponents[:,0], principalComponents[:,1])     #plotting the uncorrelated variables in 2D space\n",
        "plt.xlabel('PCA variable 1')\n",
        "plt.ylabel('PCA variable 2')\n",
        "plt.show()\n",
        "\n",
        "print(principalComponents.mean(),principalComponents.std())         #printing the mean and the standard deviation of the uncorrelated data"
      ],
      "execution_count": null,
      "outputs": [
        {
          "output_type": "display_data",
          "data": {
            "image/png": "[encoded data removed]",
            "text/plain": [
              "<Figure size 432x288 with 1 Axes>"
            ]
          },
          "metadata": {
            "tags": [],
            "needs_background": "light"
          }
        },
        {
          "output_type": "stream",
          "text": [
            "7.859986015045356e-17 1.1721629472286939\n"
          ],
          "name": "stdout"
        }
      ]
    },
    {
      "cell_type": "markdown",
      "metadata": {
        "id": "DCNcpGLUz1A8",
        "colab_type": "text"
      },
      "source": [
        "# **Outlier Analysis**\n",
        "\n",
        "In this section, we will find the points which are 3 standard deviation away from the mean and eliminate them. Them we will rank all the three features of the outliers in descending order to define a ranking space. Last, we will calculate the Euclidean distance of each outlier from the origin and find the minimum.\n"
      ]
    },
    {
      "cell_type": "code",
      "metadata": {
        "id": "EGGG1V8Gz5nl",
        "colab_type": "code",
        "colab": {
          "base_uri": "https://localhost:8080/",
          "height": 80
        },
        "outputId": "73f47d61-40da-47a6-98b5-c95d289f9b93"
      },
      "source": [
        "principalComponents = (principalComponents - principalComponents.mean())/principalComponents.std()\n",
        "distance = np.sqrt(principalComponents[:,0]**2 + principalComponents[:,1]**2)\n",
        "\n",
        "#finding outliers which are 3 standard devition away from the mean\n",
        "filtered_dist =  [ i for i in distance if i>3.0]\n",
        "filtered_id =  [ id[i] for i in range(0,len(distance)) if distance[i]>3.0]\n",
        "filtered_f1 =  [ f1[i] for i in range(0,len(distance)) if distance[i]>3.0]\n",
        "filtered_f2 =  [ f2[i] for i in range(0,len(distance)) if distance[i]>3.0]\n",
        "filtered_f3 =  [ f3[i] for i in range(0,len(distance)) if distance[i]>3.0]\n",
        "\n",
        "listOfStr = [\"SGID\", \"f1\", \"f2\", \"f3\"]\n",
        "temp = [filtered_id, filtered_f1, filtered_f2, filtered_f3]\n",
        "filtered_features = pd.DataFrame (dict(zip(listOfStr, temp)), columns = listOfStr)    #creating a new dataframe for the list of outliers\n",
        "\n",
        "#defining a ranking space by ranking the all the features of the outliers\n",
        "filtered_features['ranked_f1'] = filtered_features['f1'].rank(ascending=0)\n",
        "filtered_features['ranked_f2'] = filtered_features['f2'].rank(ascending=0)\n",
        "filtered_features['ranked_f3'] = filtered_features['f3'].rank(ascending=0)\n",
        "\n",
        "#calculating the distance of the outliers from the origin in the ranking space\n",
        "filtered_features['overall_dist'] = filtered_features['ranked_f1']**2 +filtered_features['ranked_f2']**2 + filtered_features['ranked_f3']**2\n",
        "filtered_features['overall_rank'] = filtered_features['overall_dist']**(1/2)\n",
        "\n",
        "#finding the minimum distance \n",
        "value = filtered_features['SGID'][filtered_features['overall_rank'].idxmin()]\n",
        "members.loc[members['SGID'] == value]                                                 #printing the most important person in the Congress"
      ],
      "execution_count": null,
      "outputs": [
        {
          "output_type": "execute_result",
          "data": {
            "text/html": [
              "<div>\n",
              "<style scoped>\n",
              "    .dataframe tbody tr th:only-of-type {\n",
              "        vertical-align: middle;\n",
              "    }\n",
              "\n",
              "    .dataframe tbody tr th {\n",
              "        vertical-align: top;\n",
              "    }\n",
              "\n",
              "    .dataframe thead th {\n",
              "        text-align: right;\n",
              "    }\n",
              "</style>\n",
              "<table border=\"1\" class=\"dataframe\">\n",
              "  <thead>\n",
              "    <tr style=\"text-align: right;\">\n",
              "      <th></th>\n",
              "      <th>name</th>\n",
              "      <th>party</th>\n",
              "      <th>state</th>\n",
              "      <th>SGID</th>\n",
              "      <th>thomas_id</th>\n",
              "      <th>bioguide_id</th>\n",
              "      <th>congress</th>\n",
              "      <th>number_of_bills</th>\n",
              "    </tr>\n",
              "  </thead>\n",
              "  <tbody>\n",
              "    <tr>\n",
              "      <th>15</th>\n",
              "      <td>Engel, Eliot L.</td>\n",
              "      <td>Democrat</td>\n",
              "      <td>NY</td>\n",
              "      <td>347</td>\n",
              "      <td>344.0</td>\n",
              "      <td>E000179</td>\n",
              "      <td>115</td>\n",
              "      <td>42</td>\n",
              "    </tr>\n",
              "  </tbody>\n",
              "</table>\n",
              "</div>"
            ],
            "text/plain": [
              "               name     party state  ...  bioguide_id  congress number_of_bills\n",
              "15  Engel, Eliot L.  Democrat    NY  ...      E000179       115              42\n",
              "\n",
              "[1 rows x 8 columns]"
            ]
          },
          "metadata": {
            "tags": []
          },
          "execution_count": 7
        }
      ]
    }
  ]
}